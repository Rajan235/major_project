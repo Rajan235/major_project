{
 "cells": [
  {
   "cell_type": "code",
   "execution_count": 3,
   "id": "a43a73c1",
   "metadata": {},
   "outputs": [],
   "source": [
    "import pandas as pd\n"
   ]
  },
  {
   "cell_type": "code",
   "execution_count": 7,
   "id": "473450c5",
   "metadata": {},
   "outputs": [],
   "source": [
    "df = pd.read_csv('../data/synthetic_ipdrs.csv')"
   ]
  },
  {
   "cell_type": "code",
   "execution_count": 8,
   "id": "d84c7635",
   "metadata": {},
   "outputs": [
    {
     "name": "stdout",
     "output_type": "stream",
     "text": [
      "<class 'pandas.core.frame.DataFrame'>\n",
      "RangeIndex: 2000 entries, 0 to 1999\n",
      "Data columns (total 8 columns):\n",
      " #   Column      Non-Null Count  Dtype \n",
      "---  ------      --------------  ----- \n",
      " 0   SrcIP       2000 non-null   object\n",
      " 1   DstIP       2000 non-null   object\n",
      " 2   SrcPort     2000 non-null   int64 \n",
      " 3   DstPort     2000 non-null   int64 \n",
      " 4   Timestamp   2000 non-null   object\n",
      " 5   Protocol    2000 non-null   object\n",
      " 6   DataVolume  2000 non-null   int64 \n",
      " 7   FraudType   1304 non-null   object\n",
      "dtypes: int64(3), object(5)\n",
      "memory usage: 125.1+ KB\n"
     ]
    }
   ],
   "source": [
    "df.info()\n"
   ]
  },
  {
   "cell_type": "code",
   "execution_count": 9,
   "id": "5b4d6cea",
   "metadata": {},
   "outputs": [
    {
     "name": "stdout",
     "output_type": "stream",
     "text": [
      "<class 'pandas.core.frame.DataFrame'>\n",
      "RangeIndex: 2000 entries, 0 to 1999\n",
      "Data columns (total 8 columns):\n",
      " #   Column      Non-Null Count  Dtype         \n",
      "---  ------      --------------  -----         \n",
      " 0   SrcIP       2000 non-null   object        \n",
      " 1   DstIP       2000 non-null   object        \n",
      " 2   SrcPort     2000 non-null   int64         \n",
      " 3   DstPort     2000 non-null   int64         \n",
      " 4   Timestamp   2000 non-null   datetime64[ns]\n",
      " 5   Protocol    2000 non-null   object        \n",
      " 6   DataVolume  2000 non-null   int64         \n",
      " 7   FraudType   1304 non-null   object        \n",
      "dtypes: datetime64[ns](1), int64(3), object(4)\n",
      "memory usage: 125.1+ KB\n"
     ]
    }
   ],
   "source": [
    "# Convert the 'Timestamp' column from object to datetime\n",
    "df['Timestamp'] = pd.to_datetime(df['Timestamp'])\n",
    "\n",
    "# Verify the change\n",
    "df.info()"
   ]
  },
  {
   "cell_type": "code",
   "execution_count": 10,
   "id": "23b05827",
   "metadata": {},
   "outputs": [
    {
     "data": {
      "text/html": [
       "<div>\n",
       "<style scoped>\n",
       "    .dataframe tbody tr th:only-of-type {\n",
       "        vertical-align: middle;\n",
       "    }\n",
       "\n",
       "    .dataframe tbody tr th {\n",
       "        vertical-align: top;\n",
       "    }\n",
       "\n",
       "    .dataframe thead th {\n",
       "        text-align: right;\n",
       "    }\n",
       "</style>\n",
       "<table border=\"1\" class=\"dataframe\">\n",
       "  <thead>\n",
       "    <tr style=\"text-align: right;\">\n",
       "      <th></th>\n",
       "      <th>SrcIP</th>\n",
       "      <th>DstIP</th>\n",
       "      <th>SrcPort</th>\n",
       "      <th>DstPort</th>\n",
       "      <th>Timestamp</th>\n",
       "      <th>Protocol</th>\n",
       "      <th>DataVolume</th>\n",
       "      <th>FraudType</th>\n",
       "    </tr>\n",
       "  </thead>\n",
       "  <tbody>\n",
       "    <tr>\n",
       "      <th>0</th>\n",
       "      <td>192.168.63.192</td>\n",
       "      <td>10.0.201.1</td>\n",
       "      <td>5385</td>\n",
       "      <td>443</td>\n",
       "      <td>2023-11-12 08:18:22</td>\n",
       "      <td>UDP</td>\n",
       "      <td>8305754</td>\n",
       "      <td>DDoS</td>\n",
       "    </tr>\n",
       "    <tr>\n",
       "      <th>1</th>\n",
       "      <td>192.168.141.215</td>\n",
       "      <td>10.0.101.136</td>\n",
       "      <td>4365</td>\n",
       "      <td>53</td>\n",
       "      <td>2023-09-01 22:26:05</td>\n",
       "      <td>UDP</td>\n",
       "      <td>9987103</td>\n",
       "      <td>NaN</td>\n",
       "    </tr>\n",
       "    <tr>\n",
       "      <th>2</th>\n",
       "      <td>192.168.243.223</td>\n",
       "      <td>10.0.198.160</td>\n",
       "      <td>8851</td>\n",
       "      <td>443</td>\n",
       "      <td>2023-03-12 08:01:06</td>\n",
       "      <td>TCP</td>\n",
       "      <td>6062294</td>\n",
       "      <td>NaN</td>\n",
       "    </tr>\n",
       "    <tr>\n",
       "      <th>3</th>\n",
       "      <td>192.168.21.35</td>\n",
       "      <td>10.0.142.55</td>\n",
       "      <td>36969</td>\n",
       "      <td>22</td>\n",
       "      <td>2023-04-15 05:48:09</td>\n",
       "      <td>TCP</td>\n",
       "      <td>1608877</td>\n",
       "      <td>Espionage</td>\n",
       "    </tr>\n",
       "    <tr>\n",
       "      <th>4</th>\n",
       "      <td>192.168.216.104</td>\n",
       "      <td>10.0.20.30</td>\n",
       "      <td>1669</td>\n",
       "      <td>80</td>\n",
       "      <td>2023-05-12 02:42:53</td>\n",
       "      <td>UDP</td>\n",
       "      <td>4767985</td>\n",
       "      <td>DDoS</td>\n",
       "    </tr>\n",
       "  </tbody>\n",
       "</table>\n",
       "</div>"
      ],
      "text/plain": [
       "             SrcIP         DstIP  SrcPort  DstPort           Timestamp  \\\n",
       "0   192.168.63.192    10.0.201.1     5385      443 2023-11-12 08:18:22   \n",
       "1  192.168.141.215  10.0.101.136     4365       53 2023-09-01 22:26:05   \n",
       "2  192.168.243.223  10.0.198.160     8851      443 2023-03-12 08:01:06   \n",
       "3    192.168.21.35   10.0.142.55    36969       22 2023-04-15 05:48:09   \n",
       "4  192.168.216.104    10.0.20.30     1669       80 2023-05-12 02:42:53   \n",
       "\n",
       "  Protocol  DataVolume  FraudType  \n",
       "0      UDP     8305754       DDoS  \n",
       "1      UDP     9987103        NaN  \n",
       "2      TCP     6062294        NaN  \n",
       "3      TCP     1608877  Espionage  \n",
       "4      UDP     4767985       DDoS  "
      ]
     },
     "execution_count": 10,
     "metadata": {},
     "output_type": "execute_result"
    }
   ],
   "source": [
    "df.head()\n"
   ]
  },
  {
   "cell_type": "code",
   "execution_count": 11,
   "id": "18310389",
   "metadata": {},
   "outputs": [
    {
     "name": "stdout",
     "output_type": "stream",
     "text": [
      "Fraud vs. Normal count:\n",
      "is_fraud\n",
      "1    1304\n",
      "0     696\n",
      "Name: count, dtype: int64\n",
      "\n",
      "Fraud types breakdown:\n",
      "FraudType\n",
      "Normal       696\n",
      "DDoS         667\n",
      "Espionage    637\n",
      "Name: count, dtype: int64\n"
     ]
    }
   ],
   "source": [
    "# Create the 'is_fraud' column. 1 if FraudType is not null, 0 if it is.\n",
    "df['is_fraud'] = df['FraudType'].notna().astype(int)\n",
    "\n",
    "# You can also keep the original labels by filling the nulls\n",
    "df['FraudType'] = df['FraudType'].fillna('Normal')\n",
    "\n",
    "# Verify the new columns and their distribution\n",
    "print(\"Fraud vs. Normal count:\")\n",
    "print(df['is_fraud'].value_counts())\n",
    "\n",
    "print(\"\\nFraud types breakdown:\")\n",
    "print(df['FraudType'].value_counts())"
   ]
  },
  {
   "cell_type": "code",
   "execution_count": 12,
   "id": "4b398c1e",
   "metadata": {},
   "outputs": [
    {
     "name": "stdout",
     "output_type": "stream",
     "text": [
      "            Timestamp  hour_of_day\n",
      "0 2023-11-12 08:18:22            8\n",
      "1 2023-09-01 22:26:05           22\n",
      "2 2023-03-12 08:01:06            8\n",
      "3 2023-04-15 05:48:09            5\n",
      "4 2023-05-12 02:42:53            2\n"
     ]
    }
   ],
   "source": [
    "# Extract the hour of the day from the Timestamp\n",
    "df['hour_of_day'] = df['Timestamp'].dt.hour\n",
    "\n",
    "# You could also extract the day of the week if you had a larger dataset\n",
    "# df['day_of_week'] = df['Timestamp'].dt.dayofweek\n",
    "\n",
    "print(df[['Timestamp', 'hour_of_day']].head())"
   ]
  },
  {
   "cell_type": "code",
   "execution_count": 13,
   "id": "629e4505",
   "metadata": {},
   "outputs": [
    {
     "name": "stdout",
     "output_type": "stream",
     "text": [
      "             SrcIP  connection_count  avg_data_volume  port_diversity\n",
      "0   192.168.63.192                 1        8305754.0               1\n",
      "1  192.168.141.215                 1        9987103.0               1\n",
      "2  192.168.243.223                 1        6062294.0               1\n",
      "3    192.168.21.35                 1        1608877.0               1\n",
      "4  192.168.216.104                 1        4767985.0               1\n"
     ]
    }
   ],
   "source": [
    "# Create aggregate features based on the source IP\n",
    "ip_features = df.groupby('SrcIP').agg(\n",
    "    connection_count=('DstIP', 'count'),          # How many connections from this IP?\n",
    "    avg_data_volume=('DataVolume', 'mean'),      # Average data sent by this IP\n",
    "    port_diversity=('DstPort', 'nunique')        # How many unique ports does this IP contact?\n",
    ").reset_index()\n",
    "\n",
    "# Merge these new features back into the original dataframe\n",
    "df = pd.merge(df, ip_features, on='SrcIP', how='left')\n",
    "\n",
    "print(df[['SrcIP', 'connection_count', 'avg_data_volume', 'port_diversity']].head())"
   ]
  },
  {
   "cell_type": "code",
   "execution_count": 14,
   "id": "0080fadd",
   "metadata": {},
   "outputs": [
    {
     "name": "stdout",
     "output_type": "stream",
     "text": [
      "             SrcIP         DstIP  SrcPort  DstPort           Timestamp  \\\n",
      "0   192.168.63.192    10.0.201.1     5385      443 2023-11-12 08:18:22   \n",
      "1  192.168.141.215  10.0.101.136     4365       53 2023-09-01 22:26:05   \n",
      "2  192.168.243.223  10.0.198.160     8851      443 2023-03-12 08:01:06   \n",
      "3    192.168.21.35   10.0.142.55    36969       22 2023-04-15 05:48:09   \n",
      "4  192.168.216.104    10.0.20.30     1669       80 2023-05-12 02:42:53   \n",
      "\n",
      "   DataVolume  FraudType  is_fraud  hour_of_day  connection_count  \\\n",
      "0     8305754       DDoS         1            8                 1   \n",
      "1     9987103     Normal         0           22                 1   \n",
      "2     6062294     Normal         0            8                 1   \n",
      "3     1608877  Espionage         1            5                 1   \n",
      "4     4767985       DDoS         1            2                 1   \n",
      "\n",
      "   avg_data_volume  port_diversity  proto_TCP  proto_UDP  \n",
      "0        8305754.0               1      False       True  \n",
      "1        9987103.0               1      False       True  \n",
      "2        6062294.0               1       True      False  \n",
      "3        1608877.0               1       True      False  \n",
      "4        4767985.0               1      False       True  \n"
     ]
    }
   ],
   "source": [
    "# Convert 'Protocol' using one-hot encoding\n",
    "df = pd.get_dummies(df, columns=['Protocol'], prefix='proto')\n",
    "\n",
    "print(df.head())"
   ]
  },
  {
   "cell_type": "code",
   "execution_count": 16,
   "id": "3b7f8572",
   "metadata": {},
   "outputs": [
    {
     "name": "stdout",
     "output_type": "stream",
     "text": [
      "Before SMOTE: is_fraud\n",
      "1    913\n",
      "0    487\n",
      "Name: count, dtype: int64\n",
      "After SMOTE: is_fraud\n",
      "1    913\n",
      "0    913\n",
      "Name: count, dtype: int64\n"
     ]
    }
   ],
   "source": [
    "from sklearn.model_selection import train_test_split\n",
    "from sklearn.preprocessing import StandardScaler\n",
    "from imblearn.over_sampling import SMOTE\n",
    "\n",
    "# 1. Define your features (X) and target (y)\n",
    "# Drop non-numeric or original columns we no longer need\n",
    "X = df.drop(columns=['SrcIP', 'DstIP', 'Timestamp', 'FraudType', 'is_fraud'])\n",
    "y = df['is_fraud']\n",
    "\n",
    "# 2. Split data into training and testing sets\n",
    "X_train, X_test, y_train, y_test = train_test_split(X, y, test_size=0.3, random_state=42, stratify=y)\n",
    "\n",
    "# 3. Apply SMOTE to balance the training data\n",
    "# Note: The 'Normal' class is the minority, so we will up-sample it.\n",
    "print(\"Before SMOTE:\", y_train.value_counts())\n",
    "smote = SMOTE(random_state=42)\n",
    "X_train_resampled, y_train_resampled = smote.fit_resample(X_train, y_train)\n",
    "print(\"After SMOTE:\", y_train_resampled.value_counts())\n",
    "\n",
    "# 4. Scale the numerical features\n",
    "# Fit the scaler ONLY on the training data to prevent data leakage\n",
    "scaler = StandardScaler()\n",
    "X_train_scaled = scaler.fit_transform(X_train_resampled)\n",
    "X_test_scaled = scaler.transform(X_test) # Use the same scaler to transform the test data"
   ]
  },
  {
   "cell_type": "code",
   "execution_count": null,
   "id": "519d426a",
   "metadata": {},
   "outputs": [],
   "source": []
  }
 ],
 "metadata": {
  "kernelspec": {
   "display_name": "Python 3",
   "language": "python",
   "name": "python3"
  },
  "language_info": {
   "codemirror_mode": {
    "name": "ipython",
    "version": 3
   },
   "file_extension": ".py",
   "mimetype": "text/x-python",
   "name": "python",
   "nbconvert_exporter": "python",
   "pygments_lexer": "ipython3",
   "version": "3.12.10"
  }
 },
 "nbformat": 4,
 "nbformat_minor": 5
}
